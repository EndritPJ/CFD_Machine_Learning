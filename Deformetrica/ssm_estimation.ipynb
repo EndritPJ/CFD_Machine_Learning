{
 "cells": [
  {
   "cell_type": "code",
   "execution_count": 13,
   "metadata": {},
   "outputs": [],
   "source": [
    "# uses DFCA 4.3\n",
    "\n",
    "\n",
    "import sys, glob, importlib\n",
    "\n",
    "import matplotlib.pyplot as plt\n",
    "import matplotlib\n",
    "import numpy as np"
   ]
  },
  {
   "cell_type": "code",
   "execution_count": 2,
   "metadata": {},
   "outputs": [],
   "source": [
    "import logging\n",
    "mpl_logger = logging.getLogger('matplotlib')\n",
    "mpl_logger.setLevel(logging.WARNING) "
   ]
  },
  {
   "cell_type": "code",
   "execution_count": 3,
   "metadata": {},
   "outputs": [],
   "source": [
    "sys.path.append(\"/home/endrit/Documents/Scripts/SSM-V2/python/\")\n",
    "import ssm.tools, ssm.iovtk, ssm.atlas, ssm.initialize_controlpoints"
   ]
  },
  {
   "cell_type": "code",
   "execution_count": 4,
   "metadata": {},
   "outputs": [],
   "source": [
    "%matplotlib inline"
   ]
  },
  {
   "cell_type": "markdown",
   "metadata": {},
   "source": [
    "#### Basic parameters"
   ]
  },
  {
   "cell_type": "code",
   "execution_count": 5,
   "metadata": {},
   "outputs": [],
   "source": [
    "base_dir = \"/home/endrit/Documents/Modelling/Post_Repair_COA/SSM/\""
   ]
  },
  {
   "cell_type": "code",
   "execution_count": 6,
   "metadata": {},
   "outputs": [],
   "source": [
    "#lid = [l.strip() for l in open(\"list.txt\", \"r\")]"
   ]
  },
  {
   "cell_type": "markdown",
   "metadata": {},
   "source": [
    "1) first init control points (basic grid)  \n",
    "2) freeze control points and compute template  \n",
    "3) then freeze the template and optimise the control points  \n",
    "4) then freeze control points and recompute template  "
   ]
  },
  {
   "cell_type": "markdown",
   "metadata": {},
   "source": [
    "# Init control points"
   ]
  },
  {
   "cell_type": "code",
   "execution_count": null,
   "metadata": {},
   "outputs": [],
   "source": [
    "# assumes files are in MILLIMETRES"
   ]
  },
  {
   "cell_type": "code",
   "execution_count": 6,
   "metadata": {},
   "outputs": [],
   "source": [
    "datadir = \"/home/endrit/Documents/Modelling/Post_Repair_COA/SSM/input_surfs_mm/\""
   ]
  },
  {
   "cell_type": "code",
   "execution_count": 10,
   "metadata": {},
   "outputs": [],
   "source": [
    "# defining params\n",
    "ae = ssm.atlas.DeformetricaAtlasEstimation(\n",
    "        idir=datadir,\n",
    "        odir=base_dir + \"r0/\",\n",
    "        name=\"Aorta\",\n",
    "        initial_guess=base_dir + \"initial_guess/mm/initial_guess_final.vtk\",\n",
    "        kwd=20.,\n",
    "        kwg=15.,\n",
    "        noise=10.)\n",
    "\n",
    "# init control points first before setting in params\n",
    "params = {'convergence_tolerance': 0.01, 'max_iterations': 50,\n",
    "          'initial_control_points': ae.odir+\"initial_controlpoints.txt\",\n",
    "          \"freeze_control_points\":True, \"freeze_template\":False}\n",
    "\n",
    "ae.save_parameters(True)"
   ]
  },
  {
   "cell_type": "code",
   "execution_count": 9,
   "metadata": {},
   "outputs": [
    {
     "name": "stdout",
     "output_type": "stream",
     "text": [
      "(300, 3)\n"
     ]
    }
   ],
   "source": [
    "############ SKIP IF CONTROL POINTS ALREADY INITIALISED ##############\n",
    "# init control points (var 'margin' assumes in millimetres)\n",
    "\n",
    "b,p = ssm.initialize_controlpoints.initialize_controlpoints(ae.lf, spacing=ae.p_kernel_width_deformation, margin=1, \n",
    "                                                     output_dir=ae.odir, name=\"initial_controlpoints.txt\")\n",
    "print(p.shape)\n",
    "\n",
    "ssm.iovtk.controlpoints_to_vtkPoints_files(ae.odir+\"initial_controlpoints.txt\", ae.odir+\"initial_controlpoints.vtk\")"
   ]
  },
  {
   "cell_type": "code",
   "execution_count": 11,
   "metadata": {
    "scrolled": true
   },
   "outputs": [
    {
     "name": "stdout",
     "output_type": "stream",
     "text": [
      "overwriting parameters:  convergence_tolerance from:  0.001 to:  0.01\n",
      "overwriting parameters:  max_iterations from:  50 to:  50\n",
      "overwriting parameters:  initial_control_points from:  None to:  /home/endrit/Documents/Modelling/Post_Repair_COA/SSM/r0/initial_controlpoints.txt\n",
      "overwriting parameters:  freeze_control_points from:  True to:  True\n",
      "overwriting parameters:  freeze_template from:  False to:  False\n",
      "Logger has been set to: DEBUG\n",
      "OMP_NUM_THREADS was not found in environment variables. An automatic value will be set.\n",
      "OMP_NUM_THREADS will be set to 12\n",
      "nofile (soft): 1024, nofile (hard): 1048576\n",
      ">> No specified state-file. By default, Deformetrica state will by saved in file: /home/endrit/Documents/Modelling/Post_Repair_COA/SSM/r0/output/deformetrica-state.p.\n"
     ]
    },
    {
     "name": "stderr",
     "output_type": "stream",
     "text": [
      "/home/endrit/anaconda3/envs/dfca-env-4.3/lib/python3.8/site-packages/deformetrica/core/observations/deformable_objects/landmarks/surface_mesh.py:37: UserWarning: This overload of nonzero is deprecated:\n",
      "\tnonzero(Tensor input, *, Tensor out)\n",
      "Consider using one of the following signatures instead:\n",
      "\tnonzero(Tensor input, *, bool as_tuple) (Triggered internally at  /pytorch/torch/csrc/utils/python_arg_parser.cpp:766.)\n",
      "  triangles_to_keep = torch.nonzero(torch.norm(normals, 2, 1) != 0)\n"
     ]
    },
    {
     "name": "stdout",
     "output_type": "stream",
     "text": [
      "instantiating kernel torch with kernel_width 20.0 and gpu_mode GpuMode.KERNEL. addr: 0x7fe9e52ff820\n",
      "instantiating kernel torch with kernel_width 15.0 and gpu_mode GpuMode.KERNEL. addr: 0x7fe9e51c3340\n",
      ">> Reading 300 initial control points from file /home/endrit/Documents/Modelling/Post_Repair_COA/SSM/r0/initial_controlpoints.txt.\n",
      ">> Momenta initialized to zero, for 67 subjects.\n",
      "{'memory_length': 1, 'freeze_template': False, 'max_line_search_iterations': 10, 'optimized_log_likelihood': 'complete', 'optimization_method_type': 'scipylbfgs', 'max_iterations': 50, 'convergence_tolerance': 0.01, 'print_every_n_iters': 1, 'save_every_n_iters': 100, 'gpu_mode': <GpuMode.KERNEL: 4>, 'state_file': '/home/endrit/Documents/Modelling/Post_Repair_COA/SSM/r0/output/deformetrica-state.p', 'load_state_file': False}\n",
      "dtype=float32\n",
      ">> Started estimator: ScipyOptimize\n",
      "\n",
      ">> Scipy optimization method: L-BFGS-B\n",
      "\n",
      "------------------------------------- Iteration: 1 -------------------------------------\n",
      ">> Log-likelihood = -2.197E+06 \t [ attachment = -2.197E+06 ; regularity = 0.000E+00 ]\n",
      ">> Log-likelihood = -2.194E+06 \t [ attachment = -2.194E+06 ; regularity = -8.051E-04 ]\n",
      ">> Log-likelihood = -2.181E+06 \t [ attachment = -2.181E+06 ; regularity = -2.013E-02 ]\n",
      ">> Log-likelihood = -2.131E+06 \t [ attachment = -2.131E+06 ; regularity = -3.550E-01 ]\n",
      ">> Log-likelihood = -1.954E+06 \t [ attachment = -1.954E+06 ; regularity = -5.817E+00 ]\n",
      "\n",
      "------------------------------------- Iteration: 2 -------------------------------------\n",
      ">> Log-likelihood = -1.479E+06 \t [ attachment = -1.479E+06 ; regularity = -2.407E+02 ]\n",
      "\n",
      "------------------------------------- Iteration: 3 -------------------------------------\n",
      ">> Log-likelihood = -1.378E+06 \t [ attachment = -1.378E+06 ; regularity = -3.824E+02 ]\n",
      "\n",
      "------------------------------------- Iteration: 4 -------------------------------------\n",
      ">> Log-likelihood = -1.287E+06 \t [ attachment = -1.287E+06 ; regularity = -6.333E+02 ]\n",
      "\n",
      "------------------------------------- Iteration: 5 -------------------------------------\n",
      ">> Log-likelihood = -1.021E+06 \t [ attachment = -1.019E+06 ; regularity = -2.076E+03 ]\n",
      "\n",
      "------------------------------------- Iteration: 6 -------------------------------------\n",
      ">> Log-likelihood = -7.149E+05 \t [ attachment = -7.060E+05 ; regularity = -8.913E+03 ]\n",
      "\n",
      "------------------------------------- Iteration: 7 -------------------------------------\n",
      ">> Log-likelihood = -6.331E+05 \t [ attachment = -6.247E+05 ; regularity = -8.324E+03 ]\n",
      "\n",
      "------------------------------------- Iteration: 8 -------------------------------------\n",
      ">> Log-likelihood = -5.981E+05 \t [ attachment = -5.891E+05 ; regularity = -8.967E+03 ]\n",
      "\n",
      "------------------------------------- Iteration: 9 -------------------------------------\n",
      ">> Log-likelihood = -5.791E+05 \t [ attachment = -5.697E+05 ; regularity = -9.386E+03 ]\n",
      "\n",
      "------------------------------------- Iteration: 10 -------------------------------------\n",
      ">> Log-likelihood = -5.623E+05 \t [ attachment = -5.525E+05 ; regularity = -9.803E+03 ]\n",
      "\n",
      "------------------------------------- Iteration: 11 -------------------------------------\n",
      ">> Log-likelihood = -4.414E+05 \t [ attachment = -4.272E+05 ; regularity = -1.419E+04 ]\n",
      "\n",
      "------------------------------------- Iteration: 12 -------------------------------------\n",
      ">> Log-likelihood = -3.929E+05 \t [ attachment = -3.763E+05 ; regularity = -1.661E+04 ]\n",
      "\n",
      "------------------------------------- Iteration: 13 -------------------------------------\n",
      ">> Log-likelihood = -3.916E+05 \t [ attachment = -3.751E+05 ; regularity = -1.651E+04 ]\n",
      "\n",
      "------------------------------------- Iteration: 14 -------------------------------------\n",
      ">> CONVERGENCE: REL_REDUCTION_OF_F_<=_FACTR*EPSMCH\n",
      ">> Estimation took: 22 minutes and 11 seconds\n",
      "Deformetrica.__del__()\n"
     ]
    }
   ],
   "source": [
    "ae.estimate(params)"
   ]
  },
  {
   "cell_type": "code",
   "execution_count": 14,
   "metadata": {},
   "outputs": [],
   "source": [
    "M = ae.read_momenta()\n",
    "C = ae.read_ctrlpoints()\n",
    "varM = np.var(M, axis=0).sum(axis=1)"
   ]
  },
  {
   "cell_type": "code",
   "execution_count": 15,
   "metadata": {},
   "outputs": [
    {
     "data": {
      "image/png": "[encoded data removed]",
      "text/plain": [
       "<Figure size 720x288 with 2 Axes>"
      ]
     },
     "metadata": {
      "needs_background": "light"
     },
     "output_type": "display_data"
    }
   ],
   "source": [
    "# plot variance vs control points\n",
    "idx = varM.argsort()\n",
    "\n",
    "fig, (ax0, ax1) = plt.subplots(1,2, figsize=(10,4))\n",
    "\n",
    "ax0.plot(varM, \".\", label=\"variance\")\n",
    "ax0.semilogy()\n",
    "\n",
    "ax1.plot((np.log(varM[idx])-np.log(varM.max())) / np.log(10), label=\"log10 variance\")\n",
    "#ax1.set_xticks([0, 50, 100, 200])\n",
    "ax0.legend()\n",
    "ax1.legend()\n",
    "ax0.grid(True)\n",
    "ax1.grid(True)"
   ]
  },
  {
   "cell_type": "code",
   "execution_count": 16,
   "metadata": {},
   "outputs": [
    {
     "name": "stdout",
     "output_type": "stream",
     "text": [
      "(172, 3)\n"
     ]
    }
   ],
   "source": [
    "# truncating bad control points\n",
    "Ncp = int(np.sum(varM < 0.001*varM.max()))\n",
    "\n",
    "# keep remaining ctrl points\n",
    "C0 = C[varM > varM[idx][Ncp], :]\n",
    "print(C0.shape)"
   ]
  },
  {
   "cell_type": "code",
   "execution_count": 17,
   "metadata": {},
   "outputs": [],
   "source": [
    "# writing the txt array and vtk point cloud\n",
    "import deformetrica\n",
    "deformetrica.in_out.array_readers_and_writers.write_2D_array(C0, ae.odir, \"sel_controlpoints.txt\")\n",
    "\n",
    "ssm.iovtk.controlpoints_to_vtkPoints_files(ae.odir + \"sel_controlpoints.txt\",\n",
    "                                           ae.odir + \"sel_controlpoints.vtk\")"
   ]
  },
  {
   "cell_type": "code",
   "execution_count": null,
   "metadata": {},
   "outputs": [],
   "source": []
  },
  {
   "cell_type": "code",
   "execution_count": null,
   "metadata": {},
   "outputs": [],
   "source": [
    "# SECOND ROUND OF ATLAS ESTIMATION"
   ]
  },
  {
   "cell_type": "code",
   "execution_count": 20,
   "metadata": {},
   "outputs": [],
   "source": [
    "ae = ssm.atlas.DeformetricaAtlasEstimation(\n",
    "        idir=datadir,\n",
    "        odir=base_dir + \"r1/\",\n",
    "        name=\"Aorta\",\n",
    "        initial_guess=base_dir + \"r0/output/DeterministicAtlas__EstimatedParameters__Template_Aorta.vtk\",\n",
    "        kwd=20.,\n",
    "        kwg=15.,\n",
    "        noise=10.)\n",
    "\n",
    "# freeze template this time, to optimise ctrl points\n",
    "params = {'convergence_tolerance': 0.001, 'max_iterations': 100,\n",
    "         \"initial_control_points\":base_dir + \"r0/sel_controlpoints.txt\",\n",
    "          \"freeze_control_points\":False, \"freeze_template\":True}\n",
    "\n",
    "ae.save_parameters(True)"
   ]
  },
  {
   "cell_type": "code",
   "execution_count": 21,
   "metadata": {
    "scrolled": true
   },
   "outputs": [
    {
     "name": "stdout",
     "output_type": "stream",
     "text": [
      "overwriting parameters:  convergence_tolerance from:  0.001 to:  0.001\n",
      "overwriting parameters:  max_iterations from:  50 to:  100\n",
      "overwriting parameters:  initial_control_points from:  None to:  /home/endrit/Documents/Modelling/Post_Repair_COA/SSM/r0/sel_controlpoints.txt\n",
      "overwriting parameters:  freeze_control_points from:  True to:  False\n",
      "overwriting parameters:  freeze_template from:  False to:  True\n",
      "Logger has been set to: DEBUG\n",
      "OMP_NUM_THREADS was not found in environment variables. An automatic value will be set.\n",
      "OMP_NUM_THREADS will be set to 12\n",
      "context has already been set\n",
      ">> No specified state-file. By default, Deformetrica state will by saved in file: /home/endrit/Documents/Modelling/Post_Repair_COA/SSM/r1/output/deformetrica-state.p.\n",
      ">> Reading 172 initial control points from file /home/endrit/Documents/Modelling/Post_Repair_COA/SSM/r0/sel_controlpoints.txt.\n",
      ">> Momenta initialized to zero, for 67 subjects.\n",
      "{'memory_length': 1, 'freeze_template': True, 'max_line_search_iterations': 10, 'optimized_log_likelihood': 'complete', 'optimization_method_type': 'scipylbfgs', 'max_iterations': 100, 'convergence_tolerance': 0.001, 'print_every_n_iters': 1, 'save_every_n_iters': 100, 'gpu_mode': <GpuMode.KERNEL: 4>, 'state_file': '/home/endrit/Documents/Modelling/Post_Repair_COA/SSM/r1/output/deformetrica-state.p', 'load_state_file': False}\n",
      "dtype=float32\n",
      ">> Started estimator: ScipyOptimize\n",
      "\n",
      ">> Scipy optimization method: L-BFGS-B\n",
      "\n",
      "------------------------------------- Iteration: 1 -------------------------------------\n",
      ">> Log-likelihood = -1.241E+06 \t [ attachment = -1.241E+06 ; regularity = 0.000E+00 ]\n",
      ">> Log-likelihood = -1.224E+06 \t [ attachment = -1.223E+06 ; regularity = -3.325E+00 ]\n",
      ">> Log-likelihood = -1.155E+06 \t [ attachment = -1.155E+06 ; regularity = -8.312E+01 ]\n",
      ">> Log-likelihood = -9.093E+05 \t [ attachment = -9.078E+05 ; regularity = -1.466E+03 ]\n",
      "\n",
      "------------------------------------- Iteration: 2 -------------------------------------\n",
      ">> Log-likelihood = -8.515E+05 \t [ attachment = -7.663E+05 ; regularity = -8.525E+04 ]\n",
      ">> Log-likelihood = -3.425E+05 \t [ attachment = -3.203E+05 ; regularity = -2.220E+04 ]\n",
      "\n",
      "------------------------------------- Iteration: 3 -------------------------------------\n",
      ">> Log-likelihood = -2.191E+05 \t [ attachment = -1.754E+05 ; regularity = -4.363E+04 ]\n",
      "\n",
      "------------------------------------- Iteration: 4 -------------------------------------\n",
      ">> Log-likelihood = -1.544E+05 \t [ attachment = -1.082E+05 ; regularity = -4.627E+04 ]\n",
      "\n",
      "------------------------------------- Iteration: 5 -------------------------------------\n",
      ">> Log-likelihood = -1.280E+05 \t [ attachment = -7.987E+04 ; regularity = -4.809E+04 ]\n",
      "\n",
      "------------------------------------- Iteration: 6 -------------------------------------\n",
      ">> Log-likelihood = -1.094E+05 \t [ attachment = -5.704E+04 ; regularity = -5.233E+04 ]\n",
      "\n",
      "------------------------------------- Iteration: 7 -------------------------------------\n",
      ">> Log-likelihood = -9.902E+04 \t [ attachment = -4.234E+04 ; regularity = -5.668E+04 ]\n",
      "\n",
      "------------------------------------- Iteration: 8 -------------------------------------\n",
      ">> Log-likelihood = -9.279E+04 \t [ attachment = -3.265E+04 ; regularity = -6.014E+04 ]\n",
      "\n",
      "------------------------------------- Iteration: 9 -------------------------------------\n",
      ">> Log-likelihood = -8.894E+04 \t [ attachment = -2.782E+04 ; regularity = -6.112E+04 ]\n",
      "\n",
      "------------------------------------- Iteration: 10 -------------------------------------\n",
      ">> Log-likelihood = -8.632E+04 \t [ attachment = -2.506E+04 ; regularity = -6.127E+04 ]\n",
      "\n",
      "------------------------------------- Iteration: 11 -------------------------------------\n",
      ">> Log-likelihood = -8.439E+04 \t [ attachment = -2.348E+04 ; regularity = -6.091E+04 ]\n",
      "\n",
      "------------------------------------- Iteration: 12 -------------------------------------\n",
      ">> Log-likelihood = -8.290E+04 \t [ attachment = -2.252E+04 ; regularity = -6.038E+04 ]\n",
      "\n",
      "------------------------------------- Iteration: 13 -------------------------------------\n",
      ">> Log-likelihood = -8.161E+04 \t [ attachment = -2.133E+04 ; regularity = -6.028E+04 ]\n",
      "\n",
      "------------------------------------- Iteration: 14 -------------------------------------\n",
      ">> Log-likelihood = -8.056E+04 \t [ attachment = -2.014E+04 ; regularity = -6.042E+04 ]\n",
      "\n",
      "------------------------------------- Iteration: 15 -------------------------------------\n",
      ">> Log-likelihood = -7.970E+04 \t [ attachment = -1.914E+04 ; regularity = -6.055E+04 ]\n",
      "\n",
      "------------------------------------- Iteration: 16 -------------------------------------\n",
      ">> Log-likelihood = -7.872E+04 \t [ attachment = -1.813E+04 ; regularity = -6.058E+04 ]\n",
      "\n",
      "------------------------------------- Iteration: 17 -------------------------------------\n",
      ">> Log-likelihood = -7.858E+04 \t [ attachment = -1.814E+04 ; regularity = -6.044E+04 ]\n",
      "\n",
      "------------------------------------- Iteration: 18 -------------------------------------\n",
      ">> Log-likelihood = -7.765E+04 \t [ attachment = -1.733E+04 ; regularity = -6.032E+04 ]\n",
      "\n",
      "------------------------------------- Iteration: 19 -------------------------------------\n",
      ">> Log-likelihood = -7.741E+04 \t [ attachment = -1.722E+04 ; regularity = -6.019E+04 ]\n",
      "\n",
      "------------------------------------- Iteration: 20 -------------------------------------\n",
      ">> Log-likelihood = -7.701E+04 \t [ attachment = -1.716E+04 ; regularity = -5.986E+04 ]\n",
      "\n",
      "------------------------------------- Iteration: 21 -------------------------------------\n",
      ">> Log-likelihood = -7.769E+04 \t [ attachment = -1.844E+04 ; regularity = -5.925E+04 ]\n",
      ">> Log-likelihood = -7.681E+04 \t [ attachment = -1.716E+04 ; regularity = -5.964E+04 ]\n",
      "\n",
      "------------------------------------- Iteration: 22 -------------------------------------\n",
      ">> Log-likelihood = -7.659E+04 \t [ attachment = -1.712E+04 ; regularity = -5.947E+04 ]\n",
      "\n",
      "------------------------------------- Iteration: 23 -------------------------------------\n",
      ">> Log-likelihood = -7.612E+04 \t [ attachment = -1.736E+04 ; regularity = -5.876E+04 ]\n",
      "\n",
      "------------------------------------- Iteration: 24 -------------------------------------\n",
      ">> Log-likelihood = -7.649E+04 \t [ attachment = -1.845E+04 ; regularity = -5.804E+04 ]\n",
      ">> Log-likelihood = -7.599E+04 \t [ attachment = -1.748E+04 ; regularity = -5.851E+04 ]\n",
      "\n",
      "------------------------------------- Iteration: 25 -------------------------------------\n",
      ">> Log-likelihood = -7.586E+04 \t [ attachment = -1.753E+04 ; regularity = -5.833E+04 ]\n",
      "\n",
      "------------------------------------- Iteration: 26 -------------------------------------\n",
      ">> Log-likelihood = -7.543E+04 \t [ attachment = -1.862E+04 ; regularity = -5.681E+04 ]\n",
      "\n",
      "------------------------------------- Iteration: 27 -------------------------------------\n",
      ">> Log-likelihood = -7.555E+04 \t [ attachment = -1.921E+04 ; regularity = -5.635E+04 ]\n",
      ">> Log-likelihood = -7.529E+04 \t [ attachment = -1.868E+04 ; regularity = -5.661E+04 ]\n",
      "\n",
      "------------------------------------- Iteration: 28 -------------------------------------\n",
      ">> Log-likelihood = -7.520E+04 \t [ attachment = -1.865E+04 ; regularity = -5.655E+04 ]\n",
      "\n",
      "------------------------------------- Iteration: 29 -------------------------------------\n",
      ">> Log-likelihood = -7.493E+04 \t [ attachment = -1.861E+04 ; regularity = -5.632E+04 ]\n",
      "\n",
      "------------------------------------- Iteration: 30 -------------------------------------\n",
      ">> Log-likelihood = -7.460E+04 \t [ attachment = -1.859E+04 ; regularity = -5.600E+04 ]\n",
      "\n",
      "------------------------------------- Iteration: 31 -------------------------------------\n",
      ">> Log-likelihood = -7.429E+04 \t [ attachment = -1.817E+04 ; regularity = -5.613E+04 ]\n",
      "\n",
      "------------------------------------- Iteration: 32 -------------------------------------\n",
      ">> Log-likelihood = -7.375E+04 \t [ attachment = -1.710E+04 ; regularity = -5.665E+04 ]\n",
      "\n",
      "------------------------------------- Iteration: 33 -------------------------------------\n",
      ">> Log-likelihood = -7.347E+04 \t [ attachment = -1.572E+04 ; regularity = -5.775E+04 ]\n",
      "\n",
      "------------------------------------- Iteration: 34 -------------------------------------\n",
      ">> Log-likelihood = -7.303E+04 \t [ attachment = -1.515E+04 ; regularity = -5.788E+04 ]\n",
      "\n",
      "------------------------------------- Iteration: 35 -------------------------------------\n",
      ">> Log-likelihood = -7.290E+04 \t [ attachment = -1.499E+04 ; regularity = -5.792E+04 ]\n",
      "\n",
      "------------------------------------- Iteration: 36 -------------------------------------\n",
      ">> Log-likelihood = -7.276E+04 \t [ attachment = -1.487E+04 ; regularity = -5.789E+04 ]\n",
      "\n",
      "------------------------------------- Iteration: 37 -------------------------------------\n",
      ">> Log-likelihood = -7.266E+04 \t [ attachment = -1.487E+04 ; regularity = -5.779E+04 ]\n",
      "\n",
      "------------------------------------- Iteration: 38 -------------------------------------\n",
      ">> Log-likelihood = -7.260E+04 \t [ attachment = -1.505E+04 ; regularity = -5.755E+04 ]\n",
      "\n",
      "------------------------------------- Iteration: 39 -------------------------------------\n",
      ">> CONVERGENCE: REL_REDUCTION_OF_F_<=_FACTR*EPSMCH\n",
      ">> Estimation took: 47 minutes and 41 seconds\n",
      "Deformetrica.__del__()\n"
     ]
    }
   ],
   "source": [
    "ae.estimate(params)"
   ]
  },
  {
   "cell_type": "code",
   "execution_count": 22,
   "metadata": {},
   "outputs": [],
   "source": [
    "ae.save_controlpoints_vtk()"
   ]
  },
  {
   "cell_type": "code",
   "execution_count": null,
   "metadata": {},
   "outputs": [],
   "source": []
  },
  {
   "cell_type": "code",
   "execution_count": null,
   "metadata": {},
   "outputs": [],
   "source": [
    "# THIRD ROUND OF ATLAS ESTIMATION"
   ]
  },
  {
   "cell_type": "code",
   "execution_count": 23,
   "metadata": {},
   "outputs": [],
   "source": [
    "ae = ssm.atlas.DeformetricaAtlasEstimation(\n",
    "        idir=datadir,\n",
    "        odir=base_dir + \"r2/\",\n",
    "        name=\"Aorta\",\n",
    "        initial_guess=base_dir + \"r1/output/DeterministicAtlas__EstimatedParameters__Template_Aorta.vtk\",\n",
    "        kwd=20.,\n",
    "        kwg=15.,\n",
    "        noise=5.)\n",
    "\n",
    "params = {'convergence_tolerance': 0.001,\n",
    "         \"initial_control_points\":base_dir + \"r1/output/DeterministicAtlas__EstimatedParameters__ControlPoints.txt\",\n",
    "          \"freeze_control_points\":True, \"freeze_template\":False}\n",
    "\n",
    "ae.save_parameters(True)"
   ]
  },
  {
   "cell_type": "code",
   "execution_count": 24,
   "metadata": {
    "scrolled": true
   },
   "outputs": [
    {
     "name": "stdout",
     "output_type": "stream",
     "text": [
      "overwriting parameters:  convergence_tolerance from:  0.001 to:  0.001\n",
      "overwriting parameters:  initial_control_points from:  None to:  /home/endrit/Documents/Modelling/Post_Repair_COA/SSM/r1/output/DeterministicAtlas__EstimatedParameters__ControlPoints.txt\n",
      "overwriting parameters:  freeze_control_points from:  True to:  True\n",
      "overwriting parameters:  freeze_template from:  False to:  False\n",
      "Logger has been set to: DEBUG\n",
      "OMP_NUM_THREADS was not found in environment variables. An automatic value will be set.\n",
      "OMP_NUM_THREADS will be set to 12\n",
      "context has already been set\n",
      ">> No specified state-file. By default, Deformetrica state will by saved in file: /home/endrit/Documents/Modelling/Post_Repair_COA/SSM/r2/output/deformetrica-state.p.\n",
      ">> Reading 172 initial control points from file /home/endrit/Documents/Modelling/Post_Repair_COA/SSM/r1/output/DeterministicAtlas__EstimatedParameters__ControlPoints.txt.\n",
      ">> Momenta initialized to zero, for 67 subjects.\n",
      "{'memory_length': 1, 'freeze_template': False, 'max_line_search_iterations': 10, 'optimized_log_likelihood': 'complete', 'optimization_method_type': 'scipylbfgs', 'max_iterations': 50, 'convergence_tolerance': 0.001, 'print_every_n_iters': 1, 'save_every_n_iters': 100, 'gpu_mode': <GpuMode.KERNEL: 4>, 'state_file': '/home/endrit/Documents/Modelling/Post_Repair_COA/SSM/r2/output/deformetrica-state.p', 'load_state_file': False}\n",
      "dtype=float32\n",
      ">> Started estimator: ScipyOptimize\n",
      "\n",
      ">> Scipy optimization method: L-BFGS-B\n",
      "\n",
      "------------------------------------- Iteration: 1 -------------------------------------\n",
      ">> Log-likelihood = -4.964E+06 \t [ attachment = -4.964E+06 ; regularity = 0.000E+00 ]\n",
      ">> Log-likelihood = -4.933E+06 \t [ attachment = -4.933E+06 ; regularity = -3.793E-01 ]\n",
      ">> Log-likelihood = -4.815E+06 \t [ attachment = -4.815E+06 ; regularity = -9.484E+00 ]\n",
      "\n",
      "------------------------------------- Iteration: 2 -------------------------------------\n",
      ">> Log-likelihood = -3.976E+06 \t [ attachment = -3.975E+06 ; regularity = -6.319E+02 ]\n",
      "\n",
      "------------------------------------- Iteration: 3 -------------------------------------\n",
      ">> Log-likelihood = -3.600E+06 \t [ attachment = -3.599E+06 ; regularity = -1.342E+03 ]\n",
      "\n",
      "------------------------------------- Iteration: 4 -------------------------------------\n",
      ">> Log-likelihood = -1.870E+06 \t [ attachment = -1.858E+06 ; regularity = -1.219E+04 ]\n",
      "\n",
      "------------------------------------- Iteration: 5 -------------------------------------\n",
      ">> Log-likelihood = -1.688E+06 \t [ attachment = -1.674E+06 ; regularity = -1.410E+04 ]\n",
      "\n",
      "------------------------------------- Iteration: 6 -------------------------------------\n",
      ">> Log-likelihood = -1.611E+06 \t [ attachment = -1.596E+06 ; regularity = -1.489E+04 ]\n",
      "\n",
      "------------------------------------- Iteration: 7 -------------------------------------\n",
      ">> Log-likelihood = -1.410E+06 \t [ attachment = -1.393E+06 ; regularity = -1.723E+04 ]\n",
      "\n",
      "------------------------------------- Iteration: 8 -------------------------------------\n",
      ">> Log-likelihood = -1.074E+06 \t [ attachment = -1.051E+06 ; regularity = -2.296E+04 ]\n",
      "\n",
      "------------------------------------- Iteration: 9 -------------------------------------\n",
      ">> Log-likelihood = -9.820E+05 \t [ attachment = -9.576E+05 ; regularity = -2.435E+04 ]\n",
      "\n",
      "------------------------------------- Iteration: 10 -------------------------------------\n",
      ">> Log-likelihood = -9.430E+05 \t [ attachment = -9.180E+05 ; regularity = -2.499E+04 ]\n",
      "\n",
      "------------------------------------- Iteration: 11 -------------------------------------\n",
      ">> Log-likelihood = -8.696E+05 \t [ attachment = -8.433E+05 ; regularity = -2.632E+04 ]\n",
      "\n",
      "------------------------------------- Iteration: 12 -------------------------------------\n",
      ">> Log-likelihood = -7.896E+05 \t [ attachment = -7.617E+05 ; regularity = -2.790E+04 ]\n",
      "\n",
      "------------------------------------- Iteration: 13 -------------------------------------\n",
      ">> Log-likelihood = -6.991E+05 \t [ attachment = -6.691E+05 ; regularity = -3.001E+04 ]\n",
      "\n",
      "------------------------------------- Iteration: 14 -------------------------------------\n",
      ">> Log-likelihood = -4.205E+05 \t [ attachment = -3.765E+05 ; regularity = -4.402E+04 ]\n",
      ">> Log-likelihood = -5.505E+05 \t [ attachment = -5.158E+05 ; regularity = -3.474E+04 ]\n",
      "\n",
      "------------------------------------- Iteration: 15 -------------------------------------\n",
      ">> Log-likelihood = -4.896E+05 \t [ attachment = -4.525E+05 ; regularity = -3.715E+04 ]\n",
      "\n",
      "------------------------------------- Iteration: 16 -------------------------------------\n",
      ">> Log-likelihood = -3.551E+05 \t [ attachment = -3.069E+05 ; regularity = -4.822E+04 ]\n",
      "\n",
      "------------------------------------- Iteration: 17 -------------------------------------\n",
      ">> Log-likelihood = -3.301E+05 \t [ attachment = -2.786E+05 ; regularity = -5.155E+04 ]\n",
      ">> Log-likelihood = -3.449E+05 \t [ attachment = -2.957E+05 ; regularity = -4.925E+04 ]\n",
      "\n",
      "------------------------------------- Iteration: 18 -------------------------------------\n",
      ">> Log-likelihood = -3.378E+05 \t [ attachment = -2.884E+05 ; regularity = -4.944E+04 ]\n",
      "\n",
      "------------------------------------- Iteration: 19 -------------------------------------\n",
      ">> Log-likelihood = -3.024E+05 \t [ attachment = -2.517E+05 ; regularity = -5.076E+04 ]\n",
      "\n",
      "------------------------------------- Iteration: 20 -------------------------------------\n",
      ">> Log-likelihood = -2.861E+05 \t [ attachment = -2.349E+05 ; regularity = -5.117E+04 ]\n",
      "\n",
      "------------------------------------- Iteration: 21 -------------------------------------\n",
      ">> Log-likelihood = -2.774E+05 \t [ attachment = -2.262E+05 ; regularity = -5.117E+04 ]\n",
      "\n",
      "------------------------------------- Iteration: 22 -------------------------------------\n",
      ">> Log-likelihood = -2.700E+05 \t [ attachment = -2.189E+05 ; regularity = -5.112E+04 ]\n",
      "\n",
      "------------------------------------- Iteration: 23 -------------------------------------\n",
      ">> Log-likelihood = -2.669E+05 \t [ attachment = -2.158E+05 ; regularity = -5.109E+04 ]\n",
      "\n",
      "------------------------------------- Iteration: 24 -------------------------------------\n",
      ">> Log-likelihood = -2.619E+05 \t [ attachment = -2.109E+05 ; regularity = -5.103E+04 ]\n",
      "\n",
      "------------------------------------- Iteration: 25 -------------------------------------\n",
      ">> Log-likelihood = -2.498E+05 \t [ attachment = -1.989E+05 ; regularity = -5.094E+04 ]\n",
      "\n",
      "------------------------------------- Iteration: 26 -------------------------------------\n",
      ">> Log-likelihood = -2.288E+05 \t [ attachment = -1.780E+05 ; regularity = -5.088E+04 ]\n",
      "\n",
      "------------------------------------- Iteration: 27 -------------------------------------\n",
      ">> Log-likelihood = -2.095E+05 \t [ attachment = -1.576E+05 ; regularity = -5.189E+04 ]\n",
      ">> Log-likelihood = -2.109E+05 \t [ attachment = -1.598E+05 ; regularity = -5.108E+04 ]\n",
      "\n",
      "------------------------------------- Iteration: 28 -------------------------------------\n",
      ">> Log-likelihood = -2.024E+05 \t [ attachment = -1.508E+05 ; regularity = -5.159E+04 ]\n",
      "\n",
      "------------------------------------- Iteration: 29 -------------------------------------\n",
      ">> Log-likelihood = -1.986E+05 \t [ attachment = -1.465E+05 ; regularity = -5.210E+04 ]\n",
      "\n",
      "------------------------------------- Iteration: 30 -------------------------------------\n",
      ">> Log-likelihood = -1.944E+05 \t [ attachment = -1.418E+05 ; regularity = -5.265E+04 ]\n",
      "\n",
      "------------------------------------- Iteration: 31 -------------------------------------\n",
      ">> Log-likelihood = -1.780E+05 \t [ attachment = -1.224E+05 ; regularity = -5.559E+04 ]\n",
      "\n",
      "------------------------------------- Iteration: 32 -------------------------------------\n",
      ">> Log-likelihood = -1.710E+05 \t [ attachment = -1.139E+05 ; regularity = -5.713E+04 ]\n",
      "\n",
      "------------------------------------- Iteration: 33 -------------------------------------\n",
      ">> Log-likelihood = -1.644E+05 \t [ attachment = -1.054E+05 ; regularity = -5.901E+04 ]\n",
      "\n",
      "------------------------------------- Iteration: 34 -------------------------------------\n",
      ">> Log-likelihood = -1.549E+05 \t [ attachment = -9.260E+04 ; regularity = -6.226E+04 ]\n",
      ">> Log-likelihood = -1.615E+05 \t [ attachment = -1.019E+05 ; regularity = -5.966E+04 ]\n",
      "\n",
      "------------------------------------- Iteration: 35 -------------------------------------\n",
      ">> Log-likelihood = -1.595E+05 \t [ attachment = -9.945E+04 ; regularity = -6.005E+04 ]\n",
      "\n",
      "------------------------------------- Iteration: 36 -------------------------------------\n",
      ">> Log-likelihood = -1.454E+05 \t [ attachment = -8.089E+04 ; regularity = -6.455E+04 ]\n",
      ">> Log-likelihood = -1.541E+05 \t [ attachment = -9.294E+04 ; regularity = -6.114E+04 ]\n",
      "\n",
      "------------------------------------- Iteration: 37 -------------------------------------\n",
      ">> Log-likelihood = -1.516E+05 \t [ attachment = -9.008E+04 ; regularity = -6.156E+04 ]\n",
      "\n",
      "------------------------------------- Iteration: 38 -------------------------------------\n",
      ">> Log-likelihood = -1.467E+05 \t [ attachment = -8.413E+04 ; regularity = -6.255E+04 ]\n",
      "\n",
      "------------------------------------- Iteration: 39 -------------------------------------\n",
      ">> Log-likelihood = -1.400E+05 \t [ attachment = -7.499E+04 ; regularity = -6.498E+04 ]\n",
      "\n",
      "------------------------------------- Iteration: 40 -------------------------------------\n",
      ">> Log-likelihood = -1.393E+05 \t [ attachment = -7.451E+04 ; regularity = -6.482E+04 ]\n",
      "\n",
      "------------------------------------- Iteration: 41 -------------------------------------\n",
      ">> Log-likelihood = -1.382E+05 \t [ attachment = -7.367E+04 ; regularity = -6.449E+04 ]\n",
      "\n",
      "------------------------------------- Iteration: 42 -------------------------------------\n",
      ">> Log-likelihood = -1.371E+05 \t [ attachment = -7.282E+04 ; regularity = -6.428E+04 ]\n",
      ">> Log-likelihood = -1.378E+05 \t [ attachment = -7.335E+04 ; regularity = -6.442E+04 ]\n",
      "\n",
      "------------------------------------- Iteration: 43 -------------------------------------\n",
      ">> Log-likelihood = -1.375E+05 \t [ attachment = -7.313E+04 ; regularity = -6.438E+04 ]\n",
      "\n",
      "------------------------------------- Iteration: 44 -------------------------------------\n",
      ">> Log-likelihood = -1.350E+05 \t [ attachment = -7.101E+04 ; regularity = -6.395E+04 ]\n",
      "\n",
      "------------------------------------- Iteration: 45 -------------------------------------\n",
      ">> Log-likelihood = -1.328E+05 \t [ attachment = -6.928E+04 ; regularity = -6.349E+04 ]\n",
      "\n",
      "------------------------------------- Iteration: 46 -------------------------------------\n",
      ">> Log-likelihood = -1.302E+05 \t [ attachment = -6.746E+04 ; regularity = -6.277E+04 ]\n",
      "\n",
      "------------------------------------- Iteration: 47 -------------------------------------\n",
      ">> Log-likelihood = -1.290E+05 \t [ attachment = -6.688E+04 ; regularity = -6.211E+04 ]\n",
      ">> Log-likelihood = -1.297E+05 \t [ attachment = -6.709E+04 ; regularity = -6.259E+04 ]\n",
      "\n",
      "------------------------------------- Iteration: 48 -------------------------------------\n",
      ">> Log-likelihood = -1.292E+05 \t [ attachment = -6.668E+04 ; regularity = -6.253E+04 ]\n",
      "\n",
      "------------------------------------- Iteration: 49 -------------------------------------\n",
      ">> Log-likelihood = -1.258E+05 \t [ attachment = -6.399E+04 ; regularity = -6.178E+04 ]\n",
      "\n",
      "------------------------------------- Iteration: 50 -------------------------------------\n",
      ">> Log-likelihood = -1.261E+05 \t [ attachment = -6.457E+04 ; regularity = -6.152E+04 ]\n",
      ">> Log-likelihood = -1.256E+05 \t [ attachment = -6.393E+04 ; regularity = -6.169E+04 ]\n",
      ">> STOP: TOTAL NO. of ITERATIONS EXCEEDS LIMIT\n",
      ">> Estimation took: 01 hours, 04 minutes and 01 seconds\n",
      "Deformetrica.__del__()\n"
     ]
    }
   ],
   "source": [
    "ae.estimate(params)"
   ]
  },
  {
   "cell_type": "code",
   "execution_count": null,
   "metadata": {},
   "outputs": [],
   "source": [
    "#### end of new atlas computation"
   ]
  },
  {
   "cell_type": "code",
   "execution_count": null,
   "metadata": {},
   "outputs": [],
   "source": []
  },
  {
   "cell_type": "code",
   "execution_count": null,
   "metadata": {},
   "outputs": [],
   "source": []
  },
  {
   "cell_type": "code",
   "execution_count": null,
   "metadata": {},
   "outputs": [],
   "source": []
  },
  {
   "cell_type": "code",
   "execution_count": null,
   "metadata": {},
   "outputs": [],
   "source": []
  },
  {
   "cell_type": "code",
   "execution_count": null,
   "metadata": {},
   "outputs": [],
   "source": []
  },
  {
   "cell_type": "code",
   "execution_count": null,
   "metadata": {},
   "outputs": [],
   "source": []
  }
 ],
 "metadata": {
  "kernelspec": {
   "display_name": "dfca-env-4.3",
   "language": "python",
   "name": "dfca-env-4.3"
  },
  "language_info": {
   "codemirror_mode": {
    "name": "ipython",
    "version": 3
   },
   "file_extension": ".py",
   "mimetype": "text/x-python",
   "name": "python",
   "nbconvert_exporter": "python",
   "pygments_lexer": "ipython3",
   "version": "3.8.13"
  }
 },
 "nbformat": 4,
 "nbformat_minor": 4
}
