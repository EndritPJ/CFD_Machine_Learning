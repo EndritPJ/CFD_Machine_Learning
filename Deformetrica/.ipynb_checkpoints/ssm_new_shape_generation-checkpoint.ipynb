{
 "cells": [
  {
   "cell_type": "markdown",
   "metadata": {},
   "source": [
    "# Generate Synthetic Cohort"
   ]
  },
  {
   "cell_type": "code",
   "execution_count": null,
   "metadata": {},
   "outputs": [],
   "source": [
    "# dfca 4.3 needed\n",
    "import subprocess as sp\n",
    "import statistics, sys, os, shutil, re\n",
    "import numpy as np\n",
    "import deformetrica"
   ]
  },
  {
   "cell_type": "code",
   "execution_count": null,
   "metadata": {},
   "outputs": [],
   "source": [
    "import matplotlib.pyplot as plt\n",
    "import matplotlib\n",
    "import logging\n",
    "mpl_logger = logging.getLogger('matplotlib')\n",
    "mpl_logger.setLevel(logging.WARNING)\n",
    "%matplotlib inline"
   ]
  },
  {
   "cell_type": "code",
   "execution_count": null,
   "metadata": {},
   "outputs": [],
   "source": [
    "# append scripts from https://github.com/ClinicalCardiovascEngGroup/SSM/tree/master/python (credit: Raphael Sivera)\n",
    "sys.path.append(\"/home/endrit/Documents/Scripts/SSM-V2/python/\")\n",
    "\n",
    "import ssm.pca, ssm.volumetric_meshes, ssm.atlas"
   ]
  },
  {
   "cell_type": "markdown",
   "metadata": {},
   "source": [
    "# New Surfaces"
   ]
  },
  {
   "cell_type": "markdown",
   "metadata": {},
   "source": [
    "List directories"
   ]
  },
  {
   "cell_type": "code",
   "execution_count": null,
   "metadata": {},
   "outputs": [],
   "source": [
    "ssm_dir = \"my_final_SSM_folder/\""
   ]
  },
  {
   "cell_type": "code",
   "execution_count": null,
   "metadata": {},
   "outputs": [],
   "source": [
    "odir = \"new_surfaces/\""
   ]
  },
  {
   "cell_type": "markdown",
   "metadata": {},
   "source": [
    "**COMPUTE PCA**"
   ]
  },
  {
   "cell_type": "code",
   "execution_count": null,
   "metadata": {},
   "outputs": [],
   "source": [
    "ao = ssm.pca.DeformetricaAtlasPCA(\n",
    "    idir = ssm_dir + \"output/\",\n",
    "    odir = ssm_dir + \"pca/\")\n",
    "\n",
    "ao.compute_pca(with_plots=True)"
   ]
  },
  {
   "cell_type": "code",
   "execution_count": null,
   "metadata": {},
   "outputs": [],
   "source": [
    "# Reshape into U, S, Vt matrices\n",
    "momenta = ao.momenta\n",
    "nsbj = momenta.shape[0]\n",
    "ndim = momenta.shape[1] * momenta.shape[2]\n",
    "x = ao.momenta.reshape((nsbj, ndim))\n",
    "pca_u = ao.pca_u\n",
    "pca_s = ao.pca_s\n",
    "pca_v = ao.pca_v"
   ]
  },
  {
   "cell_type": "code",
   "execution_count": null,
   "metadata": {},
   "outputs": [],
   "source": [
    "# print cumsum of PCA\n",
    "cumsum_pca = np.concatenate((np.zeros(1), (pca_s**2).cumsum()/(pca_s**2).sum()))\n",
    "print(cumsum_pca)"
   ]
  },
  {
   "cell_type": "code",
   "execution_count": null,
   "metadata": {},
   "outputs": [],
   "source": [
    "# keep adding modes until 99% variance captured\n",
    "print(cumsum_pca[:35])"
   ]
  },
  {
   "cell_type": "code",
   "execution_count": null,
   "metadata": {},
   "outputs": [],
   "source": [
    "# save pca matrices of training set\n",
    "np.savetxt(odir + \"pca_u.csv\", pca_u, delimiter=',')\n",
    "np.savetxt(odir + \"pca_s.csv\", pca_s, delimiter=\",\")\n",
    "np.savetxt(odir + \"pca_v.csv\", pca_v, delimiter=\",\")"
   ]
  },
  {
   "cell_type": "markdown",
   "metadata": {},
   "source": [
    "**FUNCTIONS**"
   ]
  },
  {
   "cell_type": "markdown",
   "metadata": {},
   "source": [
    "Get standard deviation"
   ]
  },
  {
   "cell_type": "code",
   "execution_count": null,
   "metadata": {},
   "outputs": [],
   "source": [
    "def get_mean_stdev(n_subjects, n_modes, pca_matrix):\n",
    "        \"\"\"\n",
    "        build matrix of mean and stdev per mode:\n",
    "        output: rows=modes, col_0 = mean score per mode, col_1 = stdev of scores per mode\n",
    "        \n",
    "        Modes that are excluded given 0 mean and 0 stdev.\n",
    "        \"\"\"\n",
    "        matrix = np.zeros(shape=(n_subjects, 2))\n",
    "\n",
    "        for i in range(n_subjects):\n",
    "            if i < n_modes:\n",
    "                matrix[i][0] = statistics.mean(pca_matrix[:,i])\n",
    "                matrix[i][1] = statistics.stdev(pca_matrix[:,i])\n",
    "            else:\n",
    "                matrix[i][0] = 0\n",
    "                matrix[i][1] = 0\n",
    "        return matrix"
   ]
  },
  {
   "cell_type": "markdown",
   "metadata": {},
   "source": [
    "Sample Gaussian"
   ]
  },
  {
   "cell_type": "code",
   "execution_count": null,
   "metadata": {},
   "outputs": [],
   "source": [
    "def sample_gaussian(new_subjects, n_subjects, stats_arr):\n",
    "        \"\"\"\n",
    "        make new pca u [subjects, modes]\n",
    "        sample within 2 stdev (limit extreme deformations)\n",
    "        \"\"\"\n",
    "        new_shapes = np.zeros(shape=(new_subjects, n_subjects))\n",
    "        for i in range(new_subjects):\n",
    "            for j in range(n_subjects):\n",
    "                mu = stats_arr[j][0]\n",
    "                sigma = stats_arr[j][1]\n",
    "                x = np.random.normal(mu, sigma)\n",
    "                if x < mu - 2*sigma:\n",
    "                    x = mu - 2*sigma\n",
    "                if x > mu + 2*sigma:\n",
    "                    x = mu + 2*sigma\n",
    "                new_shapes[i][j] = x\n",
    "        return new_shapes"
   ]
  },
  {
   "cell_type": "markdown",
   "metadata": {},
   "source": [
    "Create Momenta txt file"
   ]
  },
  {
   "cell_type": "code",
   "execution_count": null,
   "metadata": {},
   "outputs": [],
   "source": [
    "def generate_momenta(new_subjects, batch_size, pca_new, ofile):\n",
    "        \"\"\"\n",
    "        reverse svd to get momenta u@s@v = momenta      \n",
    "        \"\"\"\n",
    "        s = np.dot(np.diag(pca_s), pca_v[0:batch_size, :])\n",
    "        \n",
    "        with open(ofile, 'w') as outfile:\n",
    "            # start writing momenta file\n",
    "            outfile.write(str(new_subjects)+' '+str(momenta.shape[1])+' '+str(momenta.shape[2])+'\\n')\n",
    "            outfile.write('\\n')\n",
    "            for i in range(0, new_subjects, batch_size):\n",
    "                \"\"\"\n",
    "                calculate momenta for each batch\n",
    "                \"\"\"\n",
    "                b = max(new_subjects, i + batch_size)\n",
    "                usv = np.dot(pca_new[i:b, :], s)\n",
    "                M = usv.reshape((-1, momenta.shape[1], 3))\n",
    "                # write each subject from batch into momenta file\n",
    "                for subject in M:\n",
    "                    np.savetxt(outfile, subject, fmt='%-3.20f')\n",
    "                    outfile.write('\\n')"
   ]
  },
  {
   "cell_type": "markdown",
   "metadata": {},
   "source": [
    "Shooting"
   ]
  },
  {
   "cell_type": "code",
   "execution_count": null,
   "metadata": {},
   "outputs": [],
   "source": [
    "def shoot(idir, odir, kw, noise):\n",
    "\n",
    "        ftemplate = idir + \"output/DeterministicAtlas__EstimatedParameters__Template_Aorta.vtk\"\n",
    "        fctrlpts = idir + \"output/DeterministicAtlas__EstimatedParameters__ControlPoints.txt\"\n",
    "        # new momenta file\n",
    "        fmoments = odir + \"pca_u_new_shapes_momenta.txt\"\n",
    "\n",
    "        sp.call([\"mkdir\", \"-p\", odir+\"new_shapes/\"])\n",
    "\n",
    "        # warping polydata\n",
    "        template_specifications = {\n",
    "            'new_shape': {'deformable_object_type': 'surfacemesh', \n",
    "                        'noise_std': noise,\n",
    "                        'kernel_type':'torch', 'kernel_width':kw,\n",
    "                        'filename': ftemplate}}\n",
    "        \n",
    "        model_options={\n",
    "                    'dimension': 3,\n",
    "                    'deformation_kernel_type': 'torch',\n",
    "                    'deformation_kernel_width': kw,\n",
    "                    'tmin':0,\n",
    "                    'tmax':1,\n",
    "                    \"initial_control_points\": fctrlpts,\n",
    "                    \"initial_momenta\": fmoments}\n",
    "    \n",
    "        Deformetrica = deformetrica.api.Deformetrica(verbosity=\"INFO\", output_dir=odir+\"new_shapes/\")\n",
    "        Deformetrica.compute_shooting(template_specifications, model_options=model_options)"
   ]
  },
  {
   "cell_type": "markdown",
   "metadata": {},
   "source": [
    "**DEFINE VARIABLES**"
   ]
  },
  {
   "cell_type": "code",
   "execution_count": null,
   "metadata": {},
   "outputs": [],
   "source": [
    "# number of original shapes\n",
    "n_subjects = 67"
   ]
  },
  {
   "cell_type": "code",
   "execution_count": null,
   "metadata": {},
   "outputs": [],
   "source": [
    "# number of modes to use\n",
    "n_modes = 35"
   ]
  },
  {
   "cell_type": "code",
   "execution_count": null,
   "metadata": {},
   "outputs": [],
   "source": [
    "# number of subjects to generate\n",
    "n_new_subjects = 3000"
   ]
  },
  {
   "cell_type": "markdown",
   "metadata": {},
   "source": [
    "**GENERATE SHAPES**"
   ]
  },
  {
   "cell_type": "code",
   "execution_count": null,
   "metadata": {},
   "outputs": [],
   "source": [
    "mean_stdev = get_mean_stdev(n_subjects, n_modes, pca_u)"
   ]
  },
  {
   "cell_type": "code",
   "execution_count": null,
   "metadata": {},
   "outputs": [],
   "source": [
    "# sample gaussian\n",
    "pca_u_new = sample_gaussian(n_new_subjects, n_subjects, mean_stdev)"
   ]
  },
  {
   "cell_type": "code",
   "execution_count": null,
   "metadata": {},
   "outputs": [],
   "source": [
    "# write concat pca_u file (for ML)\n",
    "np.savetxt(odir + \"pca_u_new_shapes_concat.csv\", pca_u_new, delimiter=\",\")"
   ]
  },
  {
   "cell_type": "code",
   "execution_count": null,
   "metadata": {},
   "outputs": [],
   "source": [
    "# write momenta (for shooting)\n",
    "generate_momenta(n_new_subjects, n_subjects, pca_u_new, odir + \"pca_u_new_shapes_momenta.txt\")"
   ]
  },
  {
   "cell_type": "code",
   "execution_count": null,
   "metadata": {},
   "outputs": [],
   "source": [
    "kw = 20.\n",
    "noise = 5.\n",
    "\n",
    "shoot(ssm_dir, odir, kw, noise)"
   ]
  },
  {
   "cell_type": "markdown",
   "metadata": {},
   "source": [
    "**GENERATE VOLUMES**"
   ]
  },
  {
   "cell_type": "code",
   "execution_count": null,
   "metadata": {},
   "outputs": [],
   "source": [
    "vol_dir = \"new_volumes/\""
   ]
  },
  {
   "cell_type": "code",
   "execution_count": null,
   "metadata": {},
   "outputs": [],
   "source": [
    "# make sure template and directories are correct\n",
    "ae = ssm.atlas.DeformetricaAtlasEstimation(\n",
    "    idir=ssm_dir,\n",
    "    odir=vol_dir,\n",
    "    initial_guess=ssm_dir + '/output/DeterministicAtlas__EstimatedParameters__Template_Aorta.vtk',\n",
    "    kwd=20.,\n",
    "    kwg=15.,\n",
    "    noise=5.)"
   ]
  },
  {
   "cell_type": "code",
   "execution_count": null,
   "metadata": {},
   "outputs": [],
   "source": [
    "# new template\n",
    "template_vtu = ssm_dir + \"DeterministicAtlas__EstimatedParameters__Template_Aorta.vtu\""
   ]
  },
  {
   "cell_type": "code",
   "execution_count": null,
   "metadata": {},
   "outputs": [],
   "source": [
    "# new momenta file\n",
    "fmmt = odir + \"pca_u_new_shapes_momenta.txt\""
   ]
  },
  {
   "cell_type": "code",
   "execution_count": null,
   "metadata": {},
   "outputs": [],
   "source": [
    "# ctrl points\n",
    "fctp = ssm_dir + \"output/DeterministicAtlas__EstimatedParameters__ControlPoints.txt\""
   ]
  },
  {
   "cell_type": "code",
   "execution_count": null,
   "metadata": {},
   "outputs": [],
   "source": [
    "ssm.volumetric_meshes.shoot_vtu(fin=template_vtu, \n",
    "                                fvtk=ae.odir+\"vtu/points.vtk\", \n",
    "                                fmoments=fmmt, \n",
    "                                fctrlpts=fctp, \n",
    "                                odir=ae.odir+\"vtu/\",\n",
    "                                fout=ae.odir+\"vtu/vol_mesh.vtu\", \n",
    "                                kw=ae.p_kernel_width_deformation, \n",
    "                                noise=ae.p_noise, \n",
    "                                name=ae.id)"
   ]
  }
 ],
 "metadata": {
  "kernelspec": {
   "display_name": "dfca-env-4.3",
   "language": "python",
   "name": "dfca-env-4.3"
  },
  "language_info": {
   "codemirror_mode": {
    "name": "ipython",
    "version": 3
   },
   "file_extension": ".py",
   "mimetype": "text/x-python",
   "name": "python",
   "nbconvert_exporter": "python",
   "pygments_lexer": "ipython3",
   "version": "3.8.13"
  }
 },
 "nbformat": 4,
 "nbformat_minor": 4
}
