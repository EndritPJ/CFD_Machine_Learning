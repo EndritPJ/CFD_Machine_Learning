{
 "cells": [
  {
   "cell_type": "markdown",
   "metadata": {},
   "source": [
    "# Building a statistical shape model (Deformetrica)"
   ]
  },
  {
   "cell_type": "code",
   "execution_count": null,
   "metadata": {},
   "outputs": [],
   "source": [
    "# uses DFCA 4.3\n",
    "import sys, glob, importlib\n",
    "import matplotlib.pyplot as plt\n",
    "import matplotlib\n",
    "import numpy as np"
   ]
  },
  {
   "cell_type": "code",
   "execution_count": null,
   "metadata": {},
   "outputs": [],
   "source": [
    "import logging\n",
    "mpl_logger = logging.getLogger('matplotlib')\n",
    "mpl_logger.setLevel(logging.WARNING) "
   ]
  },
  {
   "cell_type": "code",
   "execution_count": null,
   "metadata": {},
   "outputs": [],
   "source": [
    "# append scripts from https://github.com/ClinicalCardiovascEngGroup/SSM/tree/master/python (credit: Raphael Sivera)\n",
    "sys.path.append(\"/Scripts/SSM/python/\")\n",
    "\n",
    "import ssm.tools, ssm.iovtk, ssm.atlas, ssm.initialize_controlpoints"
   ]
  },
  {
   "cell_type": "code",
   "execution_count": null,
   "metadata": {},
   "outputs": [],
   "source": [
    "%matplotlib inline"
   ]
  },
  {
   "cell_type": "markdown",
   "metadata": {},
   "source": [
    "Approach:\n",
    "\n",
    "1) first initialise control points (basic grid)  \n",
    "2) freeze control points and compute template  \n",
    "3) then freeze the template and optimise the control points  \n",
    "4) then freeze control points and recompute template  "
   ]
  },
  {
   "cell_type": "code",
   "execution_count": null,
   "metadata": {},
   "outputs": [],
   "source": [
    "base_dir = \"SSM/\""
   ]
  },
  {
   "cell_type": "markdown",
   "metadata": {},
   "source": [
    "## Initialise control points (do once)"
   ]
  },
  {
   "cell_type": "markdown",
   "metadata": {},
   "source": [
    "Files are assumed to be in millimetres"
   ]
  },
  {
   "cell_type": "code",
   "execution_count": null,
   "metadata": {},
   "outputs": [],
   "source": [
    "datadir = \"/my_folder_of_surface_meshes/\""
   ]
  },
  {
   "cell_type": "code",
   "execution_count": null,
   "metadata": {},
   "outputs": [],
   "source": [
    "# defining params\n",
    "ae = ssm.atlas.DeformetricaAtlasEstimation(\n",
    "        idir=datadir,\n",
    "        odir=base_dir + \"r0/\",\n",
    "        name=\"Aorta\",\n",
    "        initial_guess=base_dir + \"my_initial_template.vtk\",\n",
    "        kwd=20.,\n",
    "        kwg=15.,\n",
    "        noise=10.)\n",
    "\n",
    "# init control points first before setting in params\n",
    "params = {'convergence_tolerance': 0.01, 'max_iterations': 50,\n",
    "          'initial_control_points': ae.odir+\"initial_controlpoints.txt\",\n",
    "          \"freeze_control_points\":True, \"freeze_template\":False}\n",
    "\n",
    "ae.save_parameters(True)"
   ]
  },
  {
   "cell_type": "code",
   "execution_count": null,
   "metadata": {},
   "outputs": [],
   "source": [
    "#################################### SKIP IF CONTROL POINTS ALREADY INITIALISED #####################################\n",
    "\n",
    "b,p = ssm.initialize_controlpoints.initialize_controlpoints(ae.lf, spacing=ae.p_kernel_width_deformation, margin=1, \n",
    "                                                     output_dir=ae.odir, name=\"initial_controlpoints.txt\")\n",
    "\n",
    "ssm.iovtk.controlpoints_to_vtkPoints_files(ae.odir+\"initial_controlpoints.txt\", ae.odir+\"initial_controlpoints.vtk\")"
   ]
  },
  {
   "cell_type": "markdown",
   "metadata": {},
   "source": [
    "**FIRST ROUND OF ATLAS ESTIMATION**"
   ]
  },
  {
   "cell_type": "code",
   "execution_count": null,
   "metadata": {
    "scrolled": true
   },
   "outputs": [],
   "source": [
    "ae.estimate(params)"
   ]
  },
  {
   "cell_type": "markdown",
   "metadata": {},
   "source": [
    "Check control point variance"
   ]
  },
  {
   "cell_type": "code",
   "execution_count": null,
   "metadata": {},
   "outputs": [],
   "source": [
    "M = ae.read_momenta()\n",
    "C = ae.read_ctrlpoints()\n",
    "varM = np.var(M, axis=0).sum(axis=1)"
   ]
  },
  {
   "cell_type": "code",
   "execution_count": null,
   "metadata": {},
   "outputs": [],
   "source": [
    "# plot variance vs control points\n",
    "idx = varM.argsort()\n",
    "\n",
    "fig, (ax0, ax1) = plt.subplots(1,2, figsize=(10,4))\n",
    "\n",
    "ax0.plot(varM, \".\", label=\"variance\")\n",
    "ax0.semilogy()\n",
    "\n",
    "ax1.plot((np.log(varM[idx])-np.log(varM.max())) / np.log(10), label=\"log10 variance\")\n",
    "#ax1.set_xticks([0, 50, 100, 200])\n",
    "ax0.legend()\n",
    "ax1.legend()\n",
    "ax0.grid(True)\n",
    "ax1.grid(True)"
   ]
  },
  {
   "cell_type": "code",
   "execution_count": null,
   "metadata": {},
   "outputs": [],
   "source": [
    "# truncating bad control points\n",
    "Ncp = int(np.sum(varM < 0.001*varM.max()))\n",
    "\n",
    "# keep remaining ctrl points\n",
    "C0 = C[varM > varM[idx][Ncp], :]\n",
    "print(C0.shape)"
   ]
  },
  {
   "cell_type": "code",
   "execution_count": null,
   "metadata": {},
   "outputs": [],
   "source": [
    "# writing the txt array and vtk point cloud\n",
    "import deformetrica\n",
    "deformetrica.in_out.array_readers_and_writers.write_2D_array(C0, ae.odir, \"sel_controlpoints.txt\")\n",
    "\n",
    "ssm.iovtk.controlpoints_to_vtkPoints_files(ae.odir + \"sel_controlpoints.txt\",\n",
    "                                           ae.odir + \"sel_controlpoints.vtk\")"
   ]
  },
  {
   "cell_type": "markdown",
   "metadata": {},
   "source": [
    "**SECOND ROUND OF ATLAS ESTIMATION**"
   ]
  },
  {
   "cell_type": "code",
   "execution_count": null,
   "metadata": {},
   "outputs": [],
   "source": [
    "ae = ssm.atlas.DeformetricaAtlasEstimation(\n",
    "        idir=datadir,\n",
    "        odir=base_dir + \"r1/\",\n",
    "        name=\"Aorta\",\n",
    "        initial_guess=base_dir + \"r0/output/DeterministicAtlas__EstimatedParameters__Template_Aorta.vtk\",\n",
    "        kwd=20.,\n",
    "        kwg=15.,\n",
    "        noise=10.)\n",
    "\n",
    "# freeze template this time, to optimise ctrl points\n",
    "params = {'convergence_tolerance': 0.001, 'max_iterations': 100,\n",
    "         \"initial_control_points\":base_dir + \"r0/sel_controlpoints.txt\",\n",
    "          \"freeze_control_points\":False, \"freeze_template\":True}\n",
    "\n",
    "ae.save_parameters(True)"
   ]
  },
  {
   "cell_type": "code",
   "execution_count": null,
   "metadata": {
    "scrolled": true
   },
   "outputs": [],
   "source": [
    "ae.estimate(params)"
   ]
  },
  {
   "cell_type": "code",
   "execution_count": null,
   "metadata": {},
   "outputs": [],
   "source": [
    "ae.save_controlpoints_vtk()"
   ]
  },
  {
   "cell_type": "markdown",
   "metadata": {},
   "source": [
    "**THIRD AND FINAL ROUND OF ATLAS ESTIMATION**"
   ]
  },
  {
   "cell_type": "code",
   "execution_count": null,
   "metadata": {},
   "outputs": [],
   "source": [
    "ae = ssm.atlas.DeformetricaAtlasEstimation(\n",
    "        idir=datadir,\n",
    "        odir=base_dir + \"r2/\",\n",
    "        name=\"Aorta\",\n",
    "        initial_guess=base_dir + \"r1/output/DeterministicAtlas__EstimatedParameters__Template_Aorta.vtk\",\n",
    "        kwd=20.,\n",
    "        kwg=15.,\n",
    "        noise=5.)\n",
    "\n",
    "params = {'convergence_tolerance': 0.001,\n",
    "         \"initial_control_points\":base_dir + \"r1/output/DeterministicAtlas__EstimatedParameters__ControlPoints.txt\",\n",
    "          \"freeze_control_points\":True, \"freeze_template\":False}\n",
    "\n",
    "ae.save_parameters(True)"
   ]
  },
  {
   "cell_type": "code",
   "execution_count": null,
   "metadata": {
    "scrolled": true
   },
   "outputs": [],
   "source": [
    "ae.estimate(params)"
   ]
  }
 ],
 "metadata": {
  "kernelspec": {
   "display_name": "dfca-env-4.3",
   "language": "python",
   "name": "dfca-env-4.3"
  },
  "language_info": {
   "codemirror_mode": {
    "name": "ipython",
    "version": 3
   },
   "file_extension": ".py",
   "mimetype": "text/x-python",
   "name": "python",
   "nbconvert_exporter": "python",
   "pygments_lexer": "ipython3",
   "version": "3.8.13"
  }
 },
 "nbformat": 4,
 "nbformat_minor": 4
}
